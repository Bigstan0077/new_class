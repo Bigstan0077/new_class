{
 "metadata": {
  "language_info": {
   "codemirror_mode": {
    "name": "ipython",
    "version": 3
   },
   "file_extension": ".py",
   "mimetype": "text/x-python",
   "name": "python",
   "nbconvert_exporter": "python",
   "pygments_lexer": "ipython3",
   "version": "3.8.5"
  },
  "orig_nbformat": 2,
  "kernelspec": {
   "name": "python385jvsc74a57bd057afa3c55199372cc74ce95ef8abe2f2d30a7accba4b0a9ba7456fa3ad07924a",
   "display_name": "Python 3.8.5 64-bit ('base': conda)"
  }
 },
 "nbformat": 4,
 "nbformat_minor": 2,
 "cells": [
  {
   "cell_type": "code",
   "execution_count": null,
   "metadata": {},
   "outputs": [],
   "source": [
    "# oop\n",
    "# fast and slow\n",
    "# data analysis"
   ]
  },
  {
   "cell_type": "code",
   "execution_count": 6,
   "metadata": {},
   "outputs": [
    {
     "output_type": "stream",
     "name": "stdout",
     "text": [
      "<class 'int'>\n<class 'type'>\nwelcome\n<class '__main__.Animal'>\n"
     ]
    }
   ],
   "source": [
    "# Object oriented program\n",
    "print(type(1))\n",
    "print(type(int))\n",
    "print('welcome')\n",
    "\n",
    "class Animal:\n",
    "    pass\n",
    "\n",
    "print(Animal)"
   ]
  },
  {
   "cell_type": "code",
   "execution_count": null,
   "metadata": {},
   "outputs": [],
   "source": [
    "# functions that you need \n",
    "print()  # Output\n",
    "# dir()\n",
    "# help()\n",
    "# type()"
   ]
  },
  {
   "cell_type": "code",
   "execution_count": 7,
   "metadata": {},
   "outputs": [
    {
     "output_type": "stream",
     "name": "stdout",
     "text": [
      "My name is  False\nMy name is  False\nMy name is  0\n"
     ]
    }
   ],
   "source": [
    "# `dry concept\n",
    "# do not Repeat Yourself\n",
    "# concatenate\n",
    "variable = False  #placeholder any object\n",
    "number = 1\n",
    "boolean= False\n",
    "\n",
    "# print('My name is variable')\n",
    "# print('variable is here')\n",
    "# print('variable like python')\n",
    "# print('is he variable')\n",
    "# print('variable like python')\n",
    "# print('is he variable')\n",
    "\n",
    "\n",
    "# concatenate strings \n",
    "# print('My name is' +' ' + variable)\n",
    "print(f'My name is  {variable}')\n",
    "print('My name is  {}'.format(variable))\n",
    "print('My name is  %' %variable)\n"
   ]
  },
  {
   "cell_type": "code",
   "execution_count": 2,
   "metadata": {},
   "outputs": [
    {
     "output_type": "stream",
     "name": "stdout",
     "text": [
      "Ademola\n"
     ]
    }
   ],
   "source": [
    "_demola = 'Xemola'\n",
    "Demola = 'Xemola'\n",
    "demola = 'Xemola'\n",
    "_ = 'Xemola' #\n",
    "# 1varible = 'Xemola' # < Error\n",
    "a,_ = 'Ademola', 'Ade' # unpacking\n",
    "print(a)\n",
    "# print(b)"
   ]
  },
  {
   "cell_type": "code",
   "execution_count": 10,
   "metadata": {},
   "outputs": [],
   "source": [
    "# import this"
   ]
  },
  {
   "cell_type": "code",
   "execution_count": 23,
   "metadata": {},
   "outputs": [
    {
     "output_type": "stream",
     "name": "stdout",
     "text": [
      "<class 'int'>\n<class 'int'>\n<class 'float'>\n<class 'str'>\n<class 'str'>\n<class 'bool'>\n<class 'bool'>\n"
     ]
    }
   ],
   "source": [
    "# Data Types \n",
    "# primitive. ---> int str bool Floats \n",
    "# Non-primitve --> tuple sets dict, list, Namedtuples Orderdict, deque, Frozensets\n",
    "\n",
    "integer = 1\n",
    "integer2 = 3000\n",
    "integer3 = 10.00\n",
    "\n",
    "\n",
    "Strings = 'I am STRING'\n",
    "Strings2 = \"I am STRING\"\n",
    "\n",
    "\n",
    "booolean1 = True\n",
    "booolean2 = False\n",
    "\n",
    "\n",
    "print(type(integer))\n",
    "print(type(integer2))\n",
    "print(type(integer3))\n",
    "print(type(Strings))\n",
    "print(type(Strings2))\n",
    "print(type(booolean1))"
   ]
  },
  {
   "cell_type": "code",
   "execution_count": 39,
   "metadata": {},
   "outputs": [
    {
     "output_type": "stream",
     "name": "stdout",
     "text": [
      "<class 'int'>\n1\n"
     ]
    }
   ],
   "source": [
    "# integer4 = '3000'\n",
    "# print(type(integer4))\n",
    "\n",
    "# new_interger = int(integer4)\n",
    "# print(type(new_interger))\n",
    "\n",
    "\n",
    "# new_string = str(integer4)\n",
    "# print(type(new_string))\n",
    "\n",
    "new_digit = True\n",
    "new_bool = int(new_digit)\n",
    "print(type(float(new_digit)))\n",
    "print(new_bool)\n"
   ]
  },
  {
   "cell_type": "code",
   "execution_count": 54,
   "metadata": {},
   "outputs": [
    {
     "output_type": "stream",
     "name": "stdout",
     "text": [
      "Ade first\ndoe\n10\nm\nmanager fourth\n"
     ]
    }
   ],
   "source": [
    "# Employee Saidatech ---> First_name  last_name Age gender position 20employees\n",
    "first_name = 'john'\n",
    "last_name = 'doe'\n",
    "age = 10\n",
    "gender = 'm'\n",
    "position = 'Manger'\n",
    "\n",
    "\n",
    "Employee1 = ['john', 'doe',10,'m', 'manager'] # list\n",
    "# Employee1 = ['john', 'doe',10,'m', 'manager'] # list\n",
    "# Employee1 = ['john', 'doe',10,'m', 'manager'] # list\n",
    "# Employee1 = ['john', 'doe',10,'m', 'manager'] # list\n",
    "# Employee1 = ['john', 'doe',10,'m', 'manager'] # list\n",
    "# Employee1 = ['john', 'doe',10,'m', 'manager'] # list\n",
    "# Employee1 = ['john', 'doe',10,'m', 'manager'] # list\n",
    "\n",
    "# mutable and iterable\n",
    "Employee1[0] = 'Ade'\n",
    "print(Employee1[0], 'first')\n",
    "print(Employee1[1])\n",
    "print(Employee1[2])\n",
    "print(Employee1[3])\n",
    "print(Employee1[4], 'fourth')\n",
    "\n",
    "# for index, value in enumerate(Employee1):\n",
    "#     # print(index, value)\n",
    "#     print(Employee1[index], index)\n"
   ]
  },
  {
   "cell_type": "code",
   "execution_count": 49,
   "metadata": {},
   "outputs": [
    {
     "output_type": "stream",
     "name": "stdout",
     "text": [
      "john doe\njohn doe\n"
     ]
    }
   ],
   "source": [
    "print(f'{first_name} {last_name}')\n",
    "print(f'{Employee1[0]} {Employee1[1]}')"
   ]
  },
  {
   "cell_type": "code",
   "execution_count": 59,
   "metadata": {},
   "outputs": [
    {
     "output_type": "stream",
     "name": "stdout",
     "text": [
      "Ade 0\ndoe 1\n10 2\nm 3\nmanager 4\n"
     ]
    }
   ],
   "source": []
  },
  {
   "cell_type": "code",
   "execution_count": null,
   "metadata": {},
   "outputs": [],
   "source": []
  }
 ]
}